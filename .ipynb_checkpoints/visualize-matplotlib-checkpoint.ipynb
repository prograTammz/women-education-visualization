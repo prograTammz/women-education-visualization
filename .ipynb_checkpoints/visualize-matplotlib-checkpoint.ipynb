{
 "cells": [
  {
   "cell_type": "markdown",
   "metadata": {},
   "source": [
    "# Matplotlib playground\n"
   ]
  },
  {
   "cell_type": "markdown",
   "metadata": {},
   "source": [
    "## Women education over the 40 years"
   ]
  },
  {
   "cell_type": "code",
   "execution_count": 17,
   "metadata": {},
   "outputs": [],
   "source": [
    "import pandas as pd\n",
    "import matplotlib.pyplot as plt\n",
    "import numpy as np"
   ]
  },
  {
   "cell_type": "code",
   "execution_count": 3,
   "metadata": {},
   "outputs": [],
   "source": [
    "data = pd.read_csv(\"percent-bachelors-degrees-women-usa.csv\")"
   ]
  },
  {
   "cell_type": "code",
   "execution_count": 4,
   "metadata": {},
   "outputs": [
    {
     "name": "stdout",
     "output_type": "stream",
     "text": [
      "    Year  Agriculture  Architecture  Art and Performance    Biology  \\\n",
      "0   1970     4.229798     11.921005                 59.7  29.088363   \n",
      "1   1971     5.452797     12.003106                 59.9  29.394403   \n",
      "2   1972     7.420710     13.214594                 60.4  29.810221   \n",
      "3   1973     9.653602     14.791613                 60.2  31.147915   \n",
      "4   1974    14.074623     17.444688                 61.9  32.996183   \n",
      "5   1975    18.333162     19.134048                 60.9  34.449902   \n",
      "6   1976    22.252760     21.394491                 61.3  36.072871   \n",
      "7   1977    24.640177     23.740541                 62.0  38.331386   \n",
      "8   1978    27.146192     25.849240                 62.5  40.112496   \n",
      "9   1979    29.633365     27.770477                 63.2  42.065551   \n",
      "10  1980    30.759390     28.080381                 63.4  43.999257   \n",
      "11  1981    31.318655     29.841694                 63.3  45.249512   \n",
      "12  1982    32.636664     34.816248                 63.1  45.967338   \n",
      "13  1983    31.635347     35.826257                 62.4  46.713135   \n",
      "14  1984    31.092947     35.453083                 62.1  47.669083   \n",
      "15  1985    31.379659     36.133348                 61.8  47.909884   \n",
      "16  1986    31.198719     37.240223                 62.1  48.300678   \n",
      "17  1987    31.486429     38.730675                 61.7  50.209878   \n",
      "18  1988    31.085087     39.398907                 61.7  50.099811   \n",
      "19  1989    31.612403     39.096540                 62.0  50.774716   \n",
      "20  1990    32.703444     40.824047                 62.6  50.818094   \n",
      "21  1991    34.711837     33.679881                 62.1  51.468805   \n",
      "22  1992    33.931660     35.202356                 61.0  51.349742   \n",
      "23  1993    34.946832     35.777159                 60.2  51.124844   \n",
      "24  1994    36.032674     34.433531                 59.4  52.246218   \n",
      "25  1995    36.844807     36.063218                 59.2  52.599403   \n",
      "26  1996    38.969775     35.926485                 58.6  53.789880   \n",
      "27  1997    40.685685     35.101934                 58.7  54.999469   \n",
      "28  1998    41.912403     37.598545                 59.1  56.351248   \n",
      "29  1999    42.887202     38.631529                 59.2  58.228823   \n",
      "30  2000    45.057766     40.023585                 59.2  59.389857   \n",
      "31  2001    45.866015     40.690282                 59.4  60.712331   \n",
      "32  2002    47.134658     41.132951                 60.9  61.895128   \n",
      "33  2003    47.935187     42.758543                 61.1  62.169456   \n",
      "34  2004    47.887140     43.466493                 61.3  61.914587   \n",
      "35  2005    47.672754     43.100368                 61.4  61.500984   \n",
      "36  2006    46.790300     44.499331                 61.6  60.172845   \n",
      "37  2007    47.605026     43.100459                 61.4  59.411993   \n",
      "38  2008    47.570834     42.711730                 60.7  59.305765   \n",
      "39  2009    48.667224     43.348921                 61.0  58.489583   \n",
      "40  2010    48.730042     42.066721                 61.3  59.010255   \n",
      "41  2011    50.037182     42.773438                 61.2  58.742397   \n",
      "\n",
      "     Business  Communications and Journalism  Computer Science  Education  \\\n",
      "0    9.064439                           35.3              13.6  74.535328   \n",
      "1    9.503187                           35.5              13.6  74.149204   \n",
      "2   10.558962                           36.6              14.9  73.554520   \n",
      "3   12.804602                           38.4              16.4  73.501814   \n",
      "4   16.204850                           40.5              18.9  73.336811   \n",
      "5   19.686249                           41.5              19.8  72.801854   \n",
      "6   23.430038                           44.3              23.9  72.166525   \n",
      "7   27.163427                           46.9              25.7  72.456395   \n",
      "8   30.527519                           49.9              28.1  73.192821   \n",
      "9   33.621634                           52.3              30.2  73.821142   \n",
      "10  36.765725                           54.7              32.5  74.981032   \n",
      "11  39.266230                           56.4              34.8  75.845123   \n",
      "12  41.949373                           58.0              36.3  75.843649   \n",
      "13  43.542070                           58.6              37.1  75.950601   \n",
      "14  45.124030                           59.1              36.8  75.869116   \n",
      "15  45.747782                           59.0              35.7  75.923440   \n",
      "16  46.532915                           60.0              34.7  76.143015   \n",
      "17  46.690466                           60.2              32.4  76.963092   \n",
      "18  46.764828                           60.4              30.8  77.627662   \n",
      "19  46.781565                           60.5              29.9  78.111919   \n",
      "20  47.200851                           60.8              29.4  78.866859   \n",
      "21  47.224325                           60.8              28.7  78.991246   \n",
      "22  47.219395                           59.7              28.2  78.435182   \n",
      "23  47.639332                           58.7              28.5  77.267312   \n",
      "24  47.983924                           58.1              28.5  75.814933   \n",
      "25  48.573181                           58.8              27.5  75.125256   \n",
      "26  48.647393                           58.7              27.1  75.035199   \n",
      "27  48.561050                           60.0              26.8  75.163701   \n",
      "28  49.258515                           60.0              27.0  75.486160   \n",
      "29  49.810208                           61.2              28.1  75.838162   \n",
      "30  49.803616                           61.9              27.7  76.692143   \n",
      "31  50.275145                           63.0              27.6  77.375229   \n",
      "32  50.552335                           63.7              27.0  78.644244   \n",
      "33  50.345598                           64.6              25.1  78.544948   \n",
      "34  49.950894                           64.2              22.2  78.650748   \n",
      "35  49.791851                           63.4              20.6  79.067122   \n",
      "36  49.210914                           63.0              18.6  78.686306   \n",
      "37  49.000459                           62.5              17.6  78.721413   \n",
      "38  48.888027                           62.4              17.8  79.196327   \n",
      "39  48.840474                           62.8              18.1  79.532909   \n",
      "40  48.757988                           62.5              17.6  79.618625   \n",
      "41  48.180418                           62.2              18.2  79.432812   \n",
      "\n",
      "    Engineering    English  Foreign Languages  Health Professions  \\\n",
      "0           0.8  65.570923               73.8                77.1   \n",
      "1           1.0  64.556485               73.9                75.5   \n",
      "2           1.2  63.664263               74.6                76.9   \n",
      "3           1.6  62.941502               74.9                77.4   \n",
      "4           2.2  62.413412               75.3                77.9   \n",
      "5           3.2  61.647206               75.0                78.9   \n",
      "6           4.5  62.148194               74.4                79.2   \n",
      "7           6.8  62.723067               74.3                80.5   \n",
      "8           8.4  63.619122               74.3                81.9   \n",
      "9           9.4  65.088390               74.2                82.3   \n",
      "10         10.3  65.284130               74.1                83.5   \n",
      "11         11.6  65.838322               73.9                84.1   \n",
      "12         12.4  65.847352               72.7                84.4   \n",
      "13         13.1  65.918380               71.8                84.6   \n",
      "14         13.5  65.749862               72.1                85.1   \n",
      "15         13.5  65.798199               70.8                85.3   \n",
      "16         13.9  65.982561               71.2                85.7   \n",
      "17         14.0  66.706031               72.0                85.5   \n",
      "18         13.9  67.144498               72.3                85.2   \n",
      "19         14.1  67.017072               72.4                84.6   \n",
      "20         14.1  66.921902               71.2                83.9   \n",
      "21         14.0  66.241475               71.1                83.5   \n",
      "22         14.5  65.622457               71.0                83.0   \n",
      "23         14.9  65.730950               70.0                82.4   \n",
      "24         15.7  65.641978               69.1                81.8   \n",
      "25         16.2  65.936949               69.6                81.5   \n",
      "26         16.7  66.437779               69.7                81.3   \n",
      "27         17.0  66.786355               70.0                81.9   \n",
      "28         17.8  67.255448               70.1                82.1   \n",
      "29         18.6  67.820221               70.9                83.5   \n",
      "30         18.4  68.365995               70.9                83.5   \n",
      "31         19.0  68.578520               71.2                85.1   \n",
      "32         18.7  68.829960               70.5                85.8   \n",
      "33         18.8  68.894487               70.6                86.5   \n",
      "34         18.2  68.454734               70.8                86.5   \n",
      "35         17.9  68.571221               69.9                86.0   \n",
      "36         16.8  68.297594               69.6                85.9   \n",
      "37         16.8  67.874923               70.2                85.4   \n",
      "38         16.5  67.594028               70.2                85.2   \n",
      "39         16.8  67.969792               69.3                85.1   \n",
      "40         17.2  67.928106               69.0                85.0   \n",
      "41         17.5  68.426730               69.5                84.8   \n",
      "\n",
      "    Math and Statistics  Physical Sciences  Psychology  Public Administration  \\\n",
      "0                  38.0               13.8        44.4                   68.4   \n",
      "1                  39.0               14.9        46.2                   65.5   \n",
      "2                  40.2               14.8        47.6                   62.6   \n",
      "3                  40.9               16.5        50.4                   64.3   \n",
      "4                  41.8               18.2        52.6                   66.1   \n",
      "5                  40.7               19.1        54.5                   63.0   \n",
      "6                  41.5               20.0        56.9                   65.6   \n",
      "7                  41.1               21.3        59.0                   69.3   \n",
      "8                  41.6               22.5        61.3                   71.5   \n",
      "9                  42.3               23.7        63.3                   73.3   \n",
      "10                 42.8               24.6        65.1                   74.6   \n",
      "11                 43.2               25.7        66.9                   74.7   \n",
      "12                 44.0               27.3        67.5                   76.8   \n",
      "13                 44.3               27.6        67.9                   76.1   \n",
      "14                 46.2               28.0        68.2                   75.9   \n",
      "15                 46.5               27.5        69.0                   75.0   \n",
      "16                 46.7               28.4        69.0                   75.7   \n",
      "17                 46.5               30.4        70.1                   76.4   \n",
      "18                 46.2               29.7        70.9                   75.6   \n",
      "19                 46.2               31.3        71.6                   76.0   \n",
      "20                 47.3               31.6        72.6                   77.6   \n",
      "21                 47.0               32.6        73.2                   78.2   \n",
      "22                 47.4               32.6        73.2                   77.3   \n",
      "23                 46.4               33.6        73.1                   78.0   \n",
      "24                 47.0               34.8        72.9                   78.8   \n",
      "25                 46.1               35.9        73.0                   78.8   \n",
      "26                 46.4               37.3        73.9                   79.8   \n",
      "27                 47.0               38.3        74.4                   81.0   \n",
      "28                 48.3               39.7        75.1                   81.3   \n",
      "29                 47.8               40.2        76.5                   81.1   \n",
      "30                 48.2               41.0        77.5                   81.1   \n",
      "31                 47.0               42.2        77.5                   80.9   \n",
      "32                 45.7               41.1        77.7                   81.3   \n",
      "33                 46.0               41.7        77.8                   81.5   \n",
      "34                 44.7               42.1        77.8                   80.7   \n",
      "35                 45.1               41.6        77.5                   81.2   \n",
      "36                 44.1               40.8        77.4                   81.2   \n",
      "37                 44.1               40.7        77.1                   82.1   \n",
      "38                 43.3               40.7        77.2                   81.7   \n",
      "39                 43.3               40.7        77.1                   82.0   \n",
      "40                 43.1               40.2        77.0                   81.7   \n",
      "41                 43.1               40.1        76.7                   81.9   \n",
      "\n",
      "    Social Sciences and History  \n",
      "0                          36.8  \n",
      "1                          36.2  \n",
      "2                          36.1  \n",
      "3                          36.4  \n",
      "4                          37.3  \n",
      "5                          37.7  \n",
      "6                          39.2  \n",
      "7                          40.5  \n",
      "8                          41.8  \n",
      "9                          43.6  \n",
      "10                         44.2  \n",
      "11                         44.6  \n",
      "12                         44.6  \n",
      "13                         44.1  \n",
      "14                         44.1  \n",
      "15                         43.8  \n",
      "16                         44.0  \n",
      "17                         43.9  \n",
      "18                         44.4  \n",
      "19                         44.2  \n",
      "20                         45.1  \n",
      "21                         45.5  \n",
      "22                         45.8  \n",
      "23                         46.1  \n",
      "24                         46.8  \n",
      "25                         47.9  \n",
      "26                         48.7  \n",
      "27                         49.2  \n",
      "28                         50.5  \n",
      "29                         51.2  \n",
      "30                         51.8  \n",
      "31                         51.7  \n",
      "32                         51.5  \n",
      "33                         50.9  \n",
      "34                         50.5  \n",
      "35                         50.0  \n",
      "36                         49.8  \n",
      "37                         49.3  \n",
      "38                         49.4  \n",
      "39                         49.4  \n",
      "40                         49.3  \n",
      "41                         49.2  \n"
     ]
    }
   ],
   "source": [
    "print(data)"
   ]
  },
  {
   "cell_type": "code",
   "execution_count": 15,
   "metadata": {},
   "outputs": [],
   "source": [
    "year = data[['Year']]\n",
    "physical_sciences = data[['Physical Sciences']]\n",
    "computer_science = data[['Computer Science']]\n",
    "health = data[['Health Professions']]\n",
    "education = data[['Education']]"
   ]
  },
  {
   "cell_type": "markdown",
   "metadata": {},
   "source": [
    "In calling plt.axes([xlo, ylo, width, height]), a set of axes is created and made active with lower corner at coordinates (xlo, ylo) of the specified width and height. Note that these coordinates can be passed to plt.axes() in the form of a list or a tuple."
   ]
  },
  {
   "cell_type": "code",
   "execution_count": 13,
   "metadata": {},
   "outputs": [
    {
     "data": {
      "image/png": "[encoded data removed]",
      "text/plain": [
       "<Figure size 432x288 with 2 Axes>"
      ]
     },
     "metadata": {
      "needs_background": "light"
     },
     "output_type": "display_data"
    }
   ],
   "source": [
    "# Plot in blue the % of degrees awarded to women in the Physical Sciences\n",
    "plt.axes([0.05,0.05,0.425,0.9])\n",
    "plt.plot(year, physical_sciences, color='blue')\n",
    "\n",
    "# Plot in red the % of degrees awarded to women in Computer Science\n",
    "plt.axes([0.525,0.05,0.425,0.9])\n",
    "plt.plot(year, computer_science, color='red')\n",
    "\n",
    "# Display the plot\n",
    "plt.show()"
   ]
  },
  {
   "cell_type": "code",
   "execution_count": 14,
   "metadata": {},
   "outputs": [
    {
     "data": {
      "image/png": "[encoded data removed]",
      "text/plain": [
       "<Figure size 432x288 with 2 Axes>"
      ]
     },
     "metadata": {
      "needs_background": "light"
     },
     "output_type": "display_data"
    }
   ],
   "source": [
    "# Create a figure with 1x2 subplot and make the left subplot active\n",
    "plt.subplot(1,2,1)\n",
    "# Plot in blue the % of degrees awarded to women in the Physical Sciences\n",
    "plt.plot(year, physical_sciences, color='blue')\n",
    "plt.title('Physical Sciences')\n",
    "\n",
    "# Make the right subplot active in the current 1x2 subplot grid\n",
    "plt.subplot(1,2,2)\n",
    "\n",
    "# Plot in red the % of degrees awarded to women in Computer Science\n",
    "plt.plot(year, computer_science, color='red')\n",
    "plt.title('Computer Science')\n",
    "\n",
    "# Use plt.tight_layout() to improve the spacing between subplots\n",
    "plt.tight_layout()\n",
    "plt.show()"
   ]
  },
  {
   "cell_type": "code",
   "execution_count": 16,
   "metadata": {},
   "outputs": [
    {
     "data": {
      "image/png": "[encoded data removed]",
      "text/plain": [
       "<Figure size 432x288 with 4 Axes>"
      ]
     },
     "metadata": {
      "needs_background": "light"
     },
     "output_type": "display_data"
    }
   ],
   "source": [
    "# Create a figure with 2x2 subplot layout and make the top left subplot active\n",
    "plt.subplot(2,2,1)\n",
    "\n",
    "# Plot in blue the % of degrees awarded to women in the Physical Sciences\n",
    "plt.plot(year, physical_sciences, color='blue')\n",
    "plt.title('Physical Sciences')\n",
    "\n",
    "# Make the top right subplot active in the current 2x2 subplot grid \n",
    "plt.subplot(2,2,2)\n",
    "\n",
    "# Plot in red the % of degrees awarded to women in Computer Science\n",
    "plt.plot(year, computer_science, color='red')\n",
    "plt.title('Computer Science')\n",
    "\n",
    "# Make the bottom left subplot active in the current 2x2 subplot grid\n",
    "plt.subplot(2,2,3)\n",
    "\n",
    "# Plot in green the % of degrees awarded to women in Health Professions\n",
    "plt.plot(year, health, color='green')\n",
    "plt.title('Health Professions')\n",
    "\n",
    "# Make the bottom right subplot active in the current 2x2 subplot grid\n",
    "plt.subplot(2,2,4)\n",
    "\n",
    "# Plot in yellow the % of degrees awarded to women in Education\n",
    "plt.plot(year, education, color='yellow')\n",
    "plt.title('Education')\n",
    "\n",
    "# Improve the spacing between subplots and display them\n",
    "plt.tight_layout()\n",
    "plt.show()"
   ]
  },
  {
   "cell_type": "markdown",
   "metadata": {},
   "source": [
    "## US GDP over times"
   ]
  },
  {
   "cell_type": "code",
   "execution_count": null,
   "metadata": {},
   "outputs": [],
   "source": []
  }
 ],
 "metadata": {
  "kernelspec": {
   "display_name": "Python 3",
   "language": "python",
   "name": "python3"
  },
  "language_info": {
   "codemirror_mode": {
    "name": "ipython",
    "version": 3
   },
   "file_extension": ".py",
   "mimetype": "text/x-python",
   "name": "python",
   "nbconvert_exporter": "python",
   "pygments_lexer": "ipython3",
   "version": "3.7.4"
  }
 },
 "nbformat": 4,
 "nbformat_minor": 2
}
